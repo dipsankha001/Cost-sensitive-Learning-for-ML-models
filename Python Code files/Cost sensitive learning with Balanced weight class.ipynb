{
 "cells": [
  {
   "cell_type": "code",
   "execution_count": 1,
   "id": "8850a50c-565b-4770-ab8c-62beb10f3028",
   "metadata": {},
   "outputs": [
    {
     "name": "stdout",
     "output_type": "stream",
     "text": [
      "DecisionTreeClassifier\n",
      "ExtraTreeClassifier\n",
      "ExtraTreesClassifier\n",
      "HistGradientBoostingClassifier\n",
      "LinearSVC\n",
      "LogisticRegression\n",
      "LogisticRegressionCV\n",
      "NuSVC\n",
      "PassiveAggressiveClassifier\n",
      "Perceptron\n",
      "RandomForestClassifier\n",
      "RidgeClassifier\n",
      "RidgeClassifierCV\n",
      "SGDClassifier\n",
      "SVC\n"
     ]
    }
   ],
   "source": [
    "# Let's find out which classifiers from sklearn support class_weight\n",
    "# as part of the __init__ method, that is, when we set the m up\n",
    "\n",
    "from sklearn.utils.discovery import all_estimators\n",
    "\n",
    "estimators = all_estimators(type_filter='classifier')\n",
    "\n",
    "for name, class_ in estimators:\n",
    "    try:\n",
    "        if hasattr(class_(), 'class_weight'):\n",
    "            print(name)\n",
    "    except:\n",
    "        pass"
   ]
  },
  {
   "cell_type": "code",
   "execution_count": 3,
   "id": "55853fa3-09c0-4ff9-87b0-946d11924bd3",
   "metadata": {},
   "outputs": [],
   "source": [
    "import numpy as np\n",
    "import pandas as pd\n",
    "from sklearn.linear_model import LogisticRegression\n",
    "from sklearn.metrics import roc_auc_score\n",
    "from sklearn.model_selection import train_test_split"
   ]
  },
  {
   "cell_type": "code",
   "execution_count": 4,
   "id": "544394c6-5c06-4ea1-afbf-05746354dd4e",
   "metadata": {},
   "outputs": [
    {
     "data": {
      "text/html": [
       "<div>\n",
       "<style scoped>\n",
       "    .dataframe tbody tr th:only-of-type {\n",
       "        vertical-align: middle;\n",
       "    }\n",
       "\n",
       "    .dataframe tbody tr th {\n",
       "        vertical-align: top;\n",
       "    }\n",
       "\n",
       "    .dataframe thead th {\n",
       "        text-align: right;\n",
       "    }\n",
       "</style>\n",
       "<table border=\"1\" class=\"dataframe\">\n",
       "  <thead>\n",
       "    <tr style=\"text-align: right;\">\n",
       "      <th></th>\n",
       "      <th>0</th>\n",
       "      <th>1</th>\n",
       "      <th>2</th>\n",
       "      <th>3</th>\n",
       "      <th>4</th>\n",
       "      <th>5</th>\n",
       "      <th>6</th>\n",
       "      <th>7</th>\n",
       "      <th>8</th>\n",
       "      <th>9</th>\n",
       "      <th>...</th>\n",
       "      <th>65</th>\n",
       "      <th>66</th>\n",
       "      <th>67</th>\n",
       "      <th>68</th>\n",
       "      <th>69</th>\n",
       "      <th>70</th>\n",
       "      <th>71</th>\n",
       "      <th>72</th>\n",
       "      <th>73</th>\n",
       "      <th>target</th>\n",
       "    </tr>\n",
       "  </thead>\n",
       "  <tbody>\n",
       "    <tr>\n",
       "      <th>15125</th>\n",
       "      <td>60.00</td>\n",
       "      <td>28.57</td>\n",
       "      <td>0.29</td>\n",
       "      <td>-19.5</td>\n",
       "      <td>-14.5</td>\n",
       "      <td>783.6</td>\n",
       "      <td>0.37</td>\n",
       "      <td>0.04</td>\n",
       "      <td>6.0</td>\n",
       "      <td>-62.5</td>\n",
       "      <td>...</td>\n",
       "      <td>488.3</td>\n",
       "      <td>1.25</td>\n",
       "      <td>-0.71</td>\n",
       "      <td>2.0</td>\n",
       "      <td>-20.0</td>\n",
       "      <td>-39.2</td>\n",
       "      <td>1.94</td>\n",
       "      <td>0.20</td>\n",
       "      <td>0.05</td>\n",
       "      <td>-1</td>\n",
       "    </tr>\n",
       "    <tr>\n",
       "      <th>77877</th>\n",
       "      <td>63.39</td>\n",
       "      <td>30.26</td>\n",
       "      <td>-2.10</td>\n",
       "      <td>-7.0</td>\n",
       "      <td>35.0</td>\n",
       "      <td>593.1</td>\n",
       "      <td>0.53</td>\n",
       "      <td>0.92</td>\n",
       "      <td>8.5</td>\n",
       "      <td>-56.0</td>\n",
       "      <td>...</td>\n",
       "      <td>979.5</td>\n",
       "      <td>-0.96</td>\n",
       "      <td>1.36</td>\n",
       "      <td>4.0</td>\n",
       "      <td>-47.0</td>\n",
       "      <td>573.5</td>\n",
       "      <td>-0.70</td>\n",
       "      <td>0.03</td>\n",
       "      <td>0.26</td>\n",
       "      <td>-1</td>\n",
       "    </tr>\n",
       "    <tr>\n",
       "      <th>39564</th>\n",
       "      <td>79.72</td>\n",
       "      <td>31.21</td>\n",
       "      <td>2.08</td>\n",
       "      <td>33.5</td>\n",
       "      <td>-73.5</td>\n",
       "      <td>1737.4</td>\n",
       "      <td>-0.08</td>\n",
       "      <td>5.06</td>\n",
       "      <td>62.5</td>\n",
       "      <td>-145.5</td>\n",
       "      <td>...</td>\n",
       "      <td>906.4</td>\n",
       "      <td>0.75</td>\n",
       "      <td>12.06</td>\n",
       "      <td>80.0</td>\n",
       "      <td>-183.0</td>\n",
       "      <td>227.1</td>\n",
       "      <td>1.60</td>\n",
       "      <td>0.53</td>\n",
       "      <td>0.86</td>\n",
       "      <td>1</td>\n",
       "    </tr>\n",
       "    <tr>\n",
       "      <th>115114</th>\n",
       "      <td>48.95</td>\n",
       "      <td>28.77</td>\n",
       "      <td>0.50</td>\n",
       "      <td>22.0</td>\n",
       "      <td>-0.5</td>\n",
       "      <td>1143.5</td>\n",
       "      <td>0.69</td>\n",
       "      <td>-0.75</td>\n",
       "      <td>-13.0</td>\n",
       "      <td>-58.0</td>\n",
       "      <td>...</td>\n",
       "      <td>1110.8</td>\n",
       "      <td>-0.01</td>\n",
       "      <td>0.85</td>\n",
       "      <td>1.0</td>\n",
       "      <td>-15.0</td>\n",
       "      <td>107.9</td>\n",
       "      <td>-2.93</td>\n",
       "      <td>0.30</td>\n",
       "      <td>0.14</td>\n",
       "      <td>-1</td>\n",
       "    </tr>\n",
       "    <tr>\n",
       "      <th>65988</th>\n",
       "      <td>43.00</td>\n",
       "      <td>27.27</td>\n",
       "      <td>-0.52</td>\n",
       "      <td>2.5</td>\n",
       "      <td>6.0</td>\n",
       "      <td>894.1</td>\n",
       "      <td>-0.79</td>\n",
       "      <td>0.07</td>\n",
       "      <td>13.5</td>\n",
       "      <td>-47.5</td>\n",
       "      <td>...</td>\n",
       "      <td>636.1</td>\n",
       "      <td>-0.20</td>\n",
       "      <td>-1.48</td>\n",
       "      <td>2.0</td>\n",
       "      <td>-18.0</td>\n",
       "      <td>173.1</td>\n",
       "      <td>0.40</td>\n",
       "      <td>0.02</td>\n",
       "      <td>-0.43</td>\n",
       "      <td>-1</td>\n",
       "    </tr>\n",
       "  </tbody>\n",
       "</table>\n",
       "<p>5 rows × 75 columns</p>\n",
       "</div>"
      ],
      "text/plain": [
       "            0      1     2     3     4       5     6     7     8      9  ...  \\\n",
       "15125   60.00  28.57  0.29 -19.5 -14.5   783.6  0.37  0.04   6.0  -62.5  ...   \n",
       "77877   63.39  30.26 -2.10  -7.0  35.0   593.1  0.53  0.92   8.5  -56.0  ...   \n",
       "39564   79.72  31.21  2.08  33.5 -73.5  1737.4 -0.08  5.06  62.5 -145.5  ...   \n",
       "115114  48.95  28.77  0.50  22.0  -0.5  1143.5  0.69 -0.75 -13.0  -58.0  ...   \n",
       "65988   43.00  27.27 -0.52   2.5   6.0   894.1 -0.79  0.07  13.5  -47.5  ...   \n",
       "\n",
       "            65    66     67    68     69     70    71    72    73  target  \n",
       "15125    488.3  1.25  -0.71   2.0  -20.0  -39.2  1.94  0.20  0.05      -1  \n",
       "77877    979.5 -0.96   1.36   4.0  -47.0  573.5 -0.70  0.03  0.26      -1  \n",
       "39564    906.4  0.75  12.06  80.0 -183.0  227.1  1.60  0.53  0.86       1  \n",
       "115114  1110.8 -0.01   0.85   1.0  -15.0  107.9 -2.93  0.30  0.14      -1  \n",
       "65988    636.1 -0.20  -1.48   2.0  -18.0  173.1  0.40  0.02 -0.43      -1  \n",
       "\n",
       "[5 rows x 75 columns]"
      ]
     },
     "execution_count": 4,
     "metadata": {},
     "output_type": "execute_result"
    }
   ],
   "source": [
    "data = pd.read_csv(\"C:\\\\Users\\\\dipsa\\\\Downloads\\\\cv new sayanti\\\\python project\\\\ML_Jupyter_2024\\\\kdd2004.csv\").sample(10000)\n",
    "\n",
    "data.head()"
   ]
  },
  {
   "cell_type": "code",
   "execution_count": 5,
   "id": "0b9a5714-c3ed-478f-b8e0-664f54d59955",
   "metadata": {},
   "outputs": [
    {
     "data": {
      "text/plain": [
       "target\n",
       "-1    0.9911\n",
       " 1    0.0089\n",
       "Name: count, dtype: float64"
      ]
     },
     "execution_count": 5,
     "metadata": {},
     "output_type": "execute_result"
    }
   ],
   "source": [
    "# imbalanced target\n",
    "\n",
    "data.target.value_counts() / len(data)"
   ]
  },
  {
   "cell_type": "code",
   "execution_count": 6,
   "id": "dce5793c-3624-4034-98bb-6d20381bb1d5",
   "metadata": {},
   "outputs": [
    {
     "data": {
      "text/plain": [
       "((7000, 74), (3000, 74))"
      ]
     },
     "execution_count": 6,
     "metadata": {},
     "output_type": "execute_result"
    }
   ],
   "source": [
    "# separate dataset into train and test\n",
    "\n",
    "X_train, X_test, y_train, y_test = train_test_split(\n",
    "    data.drop(labels=['target'], axis=1),  # drop the target\n",
    "    data['target'],  # just the target\n",
    "    test_size=0.3,\n",
    "    random_state=0)\n",
    "\n",
    "X_train.shape, X_test.shape"
   ]
  },
  {
   "cell_type": "code",
   "execution_count": 7,
   "id": "d2510dd5-30bc-4847-861e-160d4331b469",
   "metadata": {},
   "outputs": [],
   "source": [
    "# Logistic Regression with class_weight\n",
    "\n",
    "# we initialize the cost / weights when we set up the transformer\n",
    "\n",
    "def run_Logit(X_train, X_test, y_train, y_test, class_weight):\n",
    "    \n",
    "    # weights introduced here\n",
    "    logit = LogisticRegression(\n",
    "        penalty='l2',\n",
    "        solver='newton-cg',\n",
    "        random_state=0,\n",
    "        max_iter=10,\n",
    "        n_jobs=4,\n",
    "        class_weight=class_weight # weights / cost\n",
    "    )\n",
    "    \n",
    "    logit.fit(X_train, y_train)\n",
    "\n",
    "    print('Train set')\n",
    "    pred = logit.predict_proba(X_train)\n",
    "    print(\n",
    "        'Random Forests roc-auc: {}'.format(roc_auc_score(y_train, pred[:, 1])))\n",
    "\n",
    "    print('Test set')\n",
    "    pred = logit.predict_proba(X_test)\n",
    "    print(\n",
    "        'Random Forests roc-auc: {}'.format(roc_auc_score(y_test, pred[:, 1])))"
   ]
  },
  {
   "cell_type": "code",
   "execution_count": 8,
   "id": "410823f4-36ab-49e8-9712-abe544c2e694",
   "metadata": {},
   "outputs": [
    {
     "name": "stdout",
     "output_type": "stream",
     "text": [
      "Train set\n",
      "Random Forests roc-auc: 0.8806277368434854\n",
      "Test set\n",
      "Random Forests roc-auc: 0.8552964028566838\n"
     ]
    }
   ],
   "source": [
    "# evaluate performance of algorithm built\n",
    "# using imbalanced dataset\n",
    "\n",
    "run_Logit(X_train,\n",
    "          X_test,\n",
    "          y_train,\n",
    "          y_test,\n",
    "          class_weight=None)"
   ]
  },
  {
   "cell_type": "code",
   "execution_count": 9,
   "id": "4d851a9a-8805-43dd-a205-5bf89cdb96c2",
   "metadata": {},
   "outputs": [
    {
     "name": "stdout",
     "output_type": "stream",
     "text": [
      "Train set\n",
      "Random Forests roc-auc: 0.9751160290531506\n",
      "Test set\n",
      "Random Forests roc-auc: 0.9564341107914299\n"
     ]
    }
   ],
   "source": [
    "# evaluate performance of algorithm built\n",
    "# cost estimated as imbalance ratio\n",
    "\n",
    "# 'balanced' indicates that we want same amount of \n",
    "# each observation, thus, imbalance ratio\n",
    "\n",
    "run_Logit(X_train,\n",
    "          X_test,\n",
    "          y_train,\n",
    "          y_test,\n",
    "          class_weight='balanced')"
   ]
  },
  {
   "cell_type": "code",
   "execution_count": 10,
   "id": "92e17362-a5bf-4273-94d3-502e622182dd",
   "metadata": {},
   "outputs": [
    {
     "name": "stdout",
     "output_type": "stream",
     "text": [
      "Train set\n",
      "Random Forests roc-auc: 0.9515365655400267\n",
      "Test set\n",
      "Random Forests roc-auc: 0.9549882431978503\n"
     ]
    }
   ],
   "source": [
    "# evaluate performance of algorithm built\n",
    "# cost estimated as imbalance ratio\n",
    "\n",
    "# alternatively, we can pass a different cost\n",
    "# in a dictionary, if we know it already\n",
    "\n",
    "run_Logit(X_train,\n",
    "          X_test,\n",
    "          y_train,\n",
    "          y_test,\n",
    "          class_weight={-1:1, 1:10})"
   ]
  },
  {
   "cell_type": "code",
   "execution_count": 11,
   "id": "f38d045a-02e6-4475-af1f-bbb171d997cb",
   "metadata": {},
   "outputs": [],
   "source": [
    "# Logistic Regression + sample_weight\n",
    "\n",
    "# we pass the weights / cost, when we train the algorithm\n",
    "\n",
    "def run_Logit(X_train, X_test, y_train, y_test, sample_weight):\n",
    "    \n",
    "    logit = LogisticRegression(\n",
    "        penalty='l2',\n",
    "        solver='newton-cg',\n",
    "        random_state=0,\n",
    "        max_iter=10,\n",
    "        n_jobs=4,\n",
    "    )\n",
    "    \n",
    "    # costs are passed here\n",
    "    logit.fit(X_train, y_train, sample_weight=sample_weight)\n",
    "\n",
    "    print('Train set')\n",
    "    pred = logit.predict_proba(X_train)\n",
    "    print(\n",
    "        'Random Forests roc-auc: {}'.format(roc_auc_score(y_train, pred[:, 1])))\n",
    "\n",
    "    print('Test set')\n",
    "    pred = logit.predict_proba(X_test)\n",
    "    print(\n",
    "        'Random Forests roc-auc: {}'.format(roc_auc_score(y_test, pred[:, 1])))"
   ]
  },
  {
   "cell_type": "code",
   "execution_count": 13,
   "id": "1d13b552-2c8d-4b02-a880-fbed849c339e",
   "metadata": {},
   "outputs": [
    {
     "name": "stdout",
     "output_type": "stream",
     "text": [
      "Train set\n",
      "Random Forests roc-auc: 0.8806277368434854\n",
      "Test set\n",
      "Random Forests roc-auc: 0.8552964028566838\n"
     ]
    }
   ],
   "source": [
    "# evaluate performance of algorithm built\n",
    "# using imbalanced dataset\n",
    "\n",
    "run_Logit(X_train,\n",
    "          X_test,\n",
    "          y_train,\n",
    "          y_test,\n",
    "          sample_weight=None)"
   ]
  },
  {
   "cell_type": "code",
   "execution_count": 14,
   "id": "fab0b7fd-a458-4373-a7c4-efacfe15d11f",
   "metadata": {},
   "outputs": [
    {
     "name": "stdout",
     "output_type": "stream",
     "text": [
      "Train set\n",
      "Random Forests roc-auc: 0.9739360725804337\n",
      "Test set\n",
      "Random Forests roc-auc: 0.956711600531612\n"
     ]
    }
   ],
   "source": [
    "# evaluate performance of algorithm built\n",
    "# cost estimated as imbalance ratio\n",
    "\n",
    "# with numpy.where, we introduce a cost of 99 to\n",
    "# each observation of the minority class, and 1\n",
    "# otherwise.\n",
    "\n",
    "run_Logit(X_train,\n",
    "          X_test,\n",
    "          y_train,\n",
    "          y_test,\n",
    "          sample_weight=np.where(y_train==1,99,1))"
   ]
  },
  {
   "cell_type": "code",
   "execution_count": null,
   "id": "7a39bb38-e8a9-4fa1-9723-2b68483d0601",
   "metadata": {},
   "outputs": [],
   "source": [
    "# You can see, for both approaches, Cost-sensitive learning has improved the performance of the model.\n",
    "\n"
   ]
  }
 ],
 "metadata": {
  "kernelspec": {
   "display_name": "Python 3 (ipykernel)",
   "language": "python",
   "name": "python3"
  },
  "language_info": {
   "codemirror_mode": {
    "name": "ipython",
    "version": 3
   },
   "file_extension": ".py",
   "mimetype": "text/x-python",
   "name": "python",
   "nbconvert_exporter": "python",
   "pygments_lexer": "ipython3",
   "version": "3.12.6"
  }
 },
 "nbformat": 4,
 "nbformat_minor": 5
}
